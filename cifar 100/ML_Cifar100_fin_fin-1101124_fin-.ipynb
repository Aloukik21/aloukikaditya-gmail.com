{
 "cells": [
  {
   "cell_type": "markdown",
   "metadata": {},
   "source": [
    "# Final project CIFAR100\n",
    "-- Network used VGG16\n",
    "\n",
    "- **Pretrained VGG model (using weights of imageNet)**\n",
    "\n",
    "Student Name/ID : Aloukik aditya(115290) , Sarthak Rawat(1101124)\n",
    " "
   ]
  },
  {
   "cell_type": "code",
   "execution_count": 1,
   "metadata": {
    "pycharm": {
     "is_executing": false
    }
   },
   "outputs": [
    {
     "name": "stdout",
     "output_type": "stream",
     "text": [
      "Setup Done..\n"
     ]
    }
   ],
   "source": [
    "from __future__ import absolute_import, division, print_function, unicode_literals\n",
    "\n",
    "import tensorflow as tf\n",
    "from tensorflow.keras.preprocessing import image\n",
    "from tensorflow.keras.models import Model,Sequential\n",
    "from tensorflow.keras.layers import Flatten, Dense, Dropout,concatenate,Activation\n",
    "import numpy as np\n",
    "import matplotlib.pyplot as plt\n",
    "from tensorflow.keras import optimizers\n",
    "from tensorflow.keras.callbacks import EarlyStopping\n",
    "from tensorflow.keras.callbacks import CSVLogger\n",
    "from sklearn.preprocessing import OneHotEncoder\n",
    "from tensorflow.keras.datasets import cifar100\n",
    "import timeit\n",
    "import cv2\n",
    "import gc\n",
    "import random\n",
    "from tensorflow.python.keras.callbacks import TensorBoard\n",
    "from tensorflow.keras.applications.vgg16 import VGG16\n",
    "from tensorflow.keras.regularizers import l1\n",
    "from tensorflow.keras.callbacks import LearningRateScheduler\n",
    "\n",
    "print(\"Setup Done..\")"
   ]
  },
  {
   "cell_type": "markdown",
   "metadata": {},
   "source": [
    "## Loading test and train data \n",
    "- We use cifar10.load_data() to load our data"
   ]
  },
  {
   "cell_type": "code",
   "execution_count": 2,
   "metadata": {},
   "outputs": [
    {
     "name": "stdout",
     "output_type": "stream",
     "text": [
      "Data loaded\n"
     ]
    }
   ],
   "source": [
    "(train_imgs, train_labels), (test_imgs, test_labels) = cifar100.load_data()\n",
    "print(\"Data loaded\")"
   ]
  },
  {
   "cell_type": "markdown",
   "metadata": {},
   "source": [
    "## Checking data shape and size"
   ]
  },
  {
   "cell_type": "code",
   "execution_count": 3,
   "metadata": {
    "pycharm": {
     "is_executing": false
    },
    "scrolled": true
   },
   "outputs": [
    {
     "name": "stdout",
     "output_type": "stream",
     "text": [
      "Shape of train data:  (50000, 32, 32, 3)\n",
      "Shape of test data:  (10000, 32, 32, 3)\n",
      "Shape of train labels:  (50000, 1)\n",
      "Shape of test labels:  (10000, 1)\n"
     ]
    }
   ],
   "source": [
    "print(\"Shape of train data: \",train_imgs.shape)\n",
    "print(\"Shape of test data: \",test_imgs.shape)\n",
    "print(\"Shape of train labels: \",train_labels.shape)\n",
    "print(\"Shape of test labels: \",test_labels.shape)"
   ]
  },
  {
   "cell_type": "markdown",
   "metadata": {},
   "source": [
    "## Plotting some random images"
   ]
  },
  {
   "cell_type": "code",
   "execution_count": 4,
   "metadata": {},
   "outputs": [
    {
     "data": {
      "image/png": "[encoded data removed]",
      "text/plain": [
       "<Figure size 1080x1080 with 1 Axes>"
      ]
     },
     "metadata": {
      "needs_background": "light"
     },
     "output_type": "display_data"
    },
    {
     "data": {
      "image/png": "[encoded data removed]",
      "text/plain": [
       "<Figure size 1080x1080 with 1 Axes>"
      ]
     },
     "metadata": {
      "needs_background": "light"
     },
     "output_type": "display_data"
    },
    {
     "data": {
      "image/png": "[encoded data removed]",
      "text/plain": [
       "<Figure size 1080x1080 with 1 Axes>"
      ]
     },
     "metadata": {
      "needs_background": "light"
     },
     "output_type": "display_data"
    }
   ],
   "source": [
    "val_index = []\n",
    "for i in range(3):\n",
    "    value = random.randint(0,3582)\n",
    "    val_index.append(value)\n",
    "    plt.figure( figsize=(15, 15))\n",
    "    plt.subplot(1, 4, i+1)\n",
    "    plt.title([train_labels[value]])\n",
    "    plt.imshow(train_imgs[value])\n",
    "\n",
    "plt.show()"
   ]
  },
  {
   "cell_type": "markdown",
   "metadata": {},
   "source": [
    "# Preprocess image using VGG function image\n",
    "- The function is used to normalize image according to VGG16 network"
   ]
  },
  {
   "cell_type": "code",
   "execution_count": 5,
   "metadata": {
    "pycharm": {
     "is_executing": false
    }
   },
   "outputs": [
    {
     "name": "stdout",
     "output_type": "stream",
     "text": [
      "Time taken to preprocess/normalize data :  0.5525247910000104\n"
     ]
    }
   ],
   "source": [
    "from tensorflow.keras.applications.vgg16 import preprocess_input \n",
    "start = timeit.default_timer()\n",
    "train_imgs = preprocess_input(train_imgs)\n",
    "test_imgs = preprocess_input(test_imgs)\n",
    "stop = timeit.default_timer()\n",
    "print('Time taken to preprocess/normalize data : ', stop - start)"
   ]
  },
  {
   "cell_type": "markdown",
   "metadata": {},
   "source": [
    "## Resize test and train images\n",
    "- The images are resized to (224,244,3) format so that they can be used with VGG model\n",
    "- The below code takes up lot of RAM so be sure to increase your ram on google cloud (otherwise you may get memory error)"
   ]
  },
  {
   "cell_type": "code",
   "execution_count": 6,
   "metadata": {},
   "outputs": [
    {
     "name": "stdout",
     "output_type": "stream",
     "text": [
      "Time taken to resize data :  44.958423479000004\n",
      "Resize done\n"
     ]
    }
   ],
   "source": [
    "gc.collect()\n",
    "start = timeit.default_timer()\n",
    "train_imgs = np.array([cv2.resize(img, (224, 224), interpolation=cv2.INTER_CUBIC) for img in train_imgs])\n",
    "test_imgs = np.array([cv2.resize(img, (224, 224), interpolation=cv2.INTER_CUBIC) for img in test_imgs])\n",
    "stop = timeit.default_timer()\n",
    "print('Time taken to resize data : ', stop - start)\n",
    "print(\"Resize done\")"
   ]
  },
  {
   "cell_type": "code",
   "execution_count": 7,
   "metadata": {},
   "outputs": [
    {
     "data": {
      "text/plain": [
       "(50000, 224, 224, 3)"
      ]
     },
     "execution_count": 7,
     "metadata": {},
     "output_type": "execute_result"
    }
   ],
   "source": [
    "#check shape of newly resiezed image\n",
    "train_imgs.shape"
   ]
  },
  {
   "cell_type": "markdown",
   "metadata": {},
   "source": [
    "## Applying one hot encoding on our labels"
   ]
  },
  {
   "cell_type": "code",
   "execution_count": 8,
   "metadata": {
    "pycharm": {
     "is_executing": false
    }
   },
   "outputs": [
    {
     "name": "stderr",
     "output_type": "stream",
     "text": [
      "/usr/local/lib/python3.5/dist-packages/sklearn/preprocessing/_encoders.py:415: FutureWarning: The handling of integer data will change in version 0.22. Currently, the categories are determined based on the range [0, max(values)], while in the future they will be determined based on the unique values.\n",
      "If you want the future behaviour and silence this warning, you can specify \"categories='auto'\".\n",
      "In case you used a LabelEncoder before this OneHotEncoder to convert the categories to integers, then you can now use the OneHotEncoder directly.\n",
      "  warnings.warn(msg, FutureWarning)\n"
     ]
    }
   ],
   "source": [
    "onehot_encoder = OneHotEncoder(sparse=False)\n",
    "\n",
    "train_labels = train_labels.reshape(-1,1)\n",
    "test_labels = test_labels.reshape(-1,1)\n",
    "\n",
    "train_labels = onehot_encoder.fit_transform(train_labels)\n",
    "test_labels = onehot_encoder.transform(test_labels)\n"
   ]
  },
  {
   "cell_type": "code",
   "execution_count": 9,
   "metadata": {},
   "outputs": [
    {
     "name": "stdout",
     "output_type": "stream",
     "text": [
      "Shape of train labels:  (50000, 100)\n",
      "Shape of test labels:  (10000, 100)\n"
     ]
    }
   ],
   "source": [
    "print(\"Shape of train labels: \",train_labels.shape)\n",
    "print(\"Shape of test labels: \",test_labels.shape)"
   ]
  },
  {
   "cell_type": "markdown",
   "metadata": {},
   "source": [
    "\n",
    "## Using model from keras--> VGG16\n",
    "- we have used pretrained weights for imagenet and kept the top fully connected layers.\n",
    "\n",
    "## How we train our model:\n",
    "- we freeze our layers of VGG16 so that they are not trained initially\n",
    "- we only train our new Fully connected layers (so that they start extracting meanings from VGG16 network)\n",
    "- we only use 2 epochs with high learning rate\n",
    "- we then unfreeze VGG16 layers, and then train our model with a low variable learning rate for higher number of epoch.\n",
    "\n",
    "### Fully connected layers(Description):\n",
    "- We use 2 fully connected layers and then add a drop out layer in between to reduce overfitting.\n",
    "- We also add Reguralizer to prevent overfitting\n",
    "- we have used Adam optimizer with learning rate of 0.0001 for training FC layers for 2 epochs\n",
    "- for later traning of full model w ehave used variable Learning rates\n"
   ]
  },
  {
   "cell_type": "markdown",
   "metadata": {},
   "source": [
    "### Freezing VGG16 layers\n",
    "- we freeze vgg16 model for our first 2 epoch (only new fully connected layer is trained)\n",
    "- after these epoch we unfreeze the model and train it"
   ]
  },
  {
   "cell_type": "code",
   "execution_count": 11,
   "metadata": {},
   "outputs": [],
   "source": [
    "#define variable learning rates\n",
    "\n",
    "def learning_rate_schedule(epoch):\n",
    "    if epoch <= 3:\n",
    "        return 1e-4 # 0.00001\n",
    "    elif epoch <= 8:\n",
    "        return 1e-5\n",
    "    elif epoch <= 10:\n",
    "        return 1e-6\n",
    "    else:\n",
    "        return 1e-7\n",
    "    return LR"
   ]
  },
  {
   "cell_type": "code",
   "execution_count": 12,
   "metadata": {},
   "outputs": [
    {
     "name": "stdout",
     "output_type": "stream",
     "text": [
      "WARNING:tensorflow:From /usr/local/lib/python3.5/dist-packages/tensorflow_core/python/ops/resource_variable_ops.py:1630: calling BaseResourceVariable.__init__ (from tensorflow.python.ops.resource_variable_ops) with constraint is deprecated and will be removed in a future version.\n",
      "Instructions for updating:\n",
      "If using Keras pass *_constraint arguments to layers.\n",
      "Model_Updated saved\n"
     ]
    }
   ],
   "source": [
    "#Initilize vgg net\n",
    "vgg_net = VGG16(include_top=True, weights='imagenet', input_shape=(224,224,3))\n",
    "\n",
    "#Define our model \n",
    "x = vgg_net.get_layer('fc2').output\n",
    "x = Dense(1000, activity_regularizer=l1(0.001),activation='relu', name='my_fc3')(x)\n",
    "x = Dropout(0.3)(x)\n",
    "x = Dense(100, activation='softmax', name='predictions')(x)\n",
    "model_updated = Model(inputs=vgg_net.input, outputs=x)\n",
    "\n",
    "\n",
    "## save our model weights\n",
    "model_updated.save_weights('CIFAR100_VGG16_model_updated_initial.h5')\n",
    "print(\"Model_Updated saved\")\n",
    "\n",
    "history_fc_list = []\n",
    "history_full_list = []\n"
   ]
  },
  {
   "cell_type": "markdown",
   "metadata": {},
   "source": [
    "## Run 1"
   ]
  },
  {
   "cell_type": "code",
   "execution_count": 13,
   "metadata": {},
   "outputs": [
    {
     "name": "stdout",
     "output_type": "stream",
     "text": [
      "------------------------New run started---------------------------------\n",
      "Initial model weights loaded , Started training run number  1\n",
      "------------------------------------------------------------------------\n",
      "--------------------------Starting Fully connected layer training------------------------------------\n",
      "Train on 50000 samples, validate on 10000 samples\n",
      "Epoch 1/2\n",
      "50000/50000 [==============================] - 156s 3ms/sample - loss: 2.4958 - acc: 0.4627 - val_loss: 1.7918 - val_acc: 0.6034\n",
      "Epoch 2/2\n",
      "50000/50000 [==============================] - 148s 3ms/sample - loss: 1.6644 - acc: 0.6300 - val_loss: 1.6049 - val_acc: 0.6420\n",
      "--------------------------Starting Full model training -->after unfreez------------------------------------\n",
      "Train on 50000 samples, validate on 10000 samples\n",
      "Epoch 1/10\n",
      "50000/50000 [==============================] - 373s 7ms/sample - loss: 1.6088 - acc: 0.6248 - val_loss: 1.3446 - val_acc: 0.6769\n",
      "Epoch 2/10\n",
      "50000/50000 [==============================] - 368s 7ms/sample - loss: 0.8589 - acc: 0.8167 - val_loss: 1.1722 - val_acc: 0.7287\n",
      "Epoch 3/10\n",
      "50000/50000 [==============================] - 368s 7ms/sample - loss: 0.4383 - acc: 0.9389 - val_loss: 1.1447 - val_acc: 0.7341\n",
      "Epoch 4/10\n",
      "50000/50000 [==============================] - 368s 7ms/sample - loss: 0.2666 - acc: 0.9831 - val_loss: 1.0702 - val_acc: 0.7581\n",
      "Epoch 5/10\n",
      "50000/50000 [==============================] - 368s 7ms/sample - loss: 0.1900 - acc: 0.9974 - val_loss: 0.9557 - val_acc: 0.7902\n",
      "Epoch 6/10\n",
      "50000/50000 [==============================] - 368s 7ms/sample - loss: 0.1717 - acc: 0.9992 - val_loss: 0.9575 - val_acc: 0.7947\n",
      "Epoch 7/10\n",
      "50000/50000 [==============================] - 368s 7ms/sample - loss: 0.1637 - acc: 0.9994 - val_loss: 0.9636 - val_acc: 0.7963\n",
      "Epoch 8/10\n",
      "50000/50000 [==============================] - 367s 7ms/sample - loss: 0.1574 - acc: 0.9996 - val_loss: 0.9787 - val_acc: 0.7970\n",
      "Epoch 9/10\n",
      "50000/50000 [==============================] - 368s 7ms/sample - loss: 0.1523 - acc: 0.9995 - val_loss: 0.9959 - val_acc: 0.7979\n",
      "Epoch 10/10\n",
      "50000/50000 [==============================] - 368s 7ms/sample - loss: 0.1484 - acc: 0.9997 - val_loss: 1.0052 - val_acc: 0.7970\n",
      "Time taken for one run is :  4214.904176501\n",
      "Model_Updated weights saved\n"
     ]
    }
   ],
   "source": [
    "\n",
    "i=0\n",
    "#Initilize vgg net\n",
    "vgg_net = VGG16(include_top=True, weights='imagenet', input_shape=(224,224,3))\n",
    "\n",
    "#Define our model \n",
    "x = vgg_net.get_layer('fc2').output\n",
    "x = Dense(1000, activity_regularizer=l1(0.001),activation='relu', name='my_fc3')(x)\n",
    "x = Dropout(0.3)(x)\n",
    "x = Dense(100, activation='softmax', name='predictions')(x)\n",
    "model_updated = Model(inputs=vgg_net.input, outputs=x)\n",
    "\n",
    "gc.collect()\n",
    "\n",
    "\n",
    "model_updated.load_weights('CIFAR100_VGG16_model_updated_initial.h5')\n",
    "\n",
    "print('------------------------New run started---------------------------------')\n",
    "print('Initial model weights loaded , Started training run number ', i+1)\n",
    "print('------------------------------------------------------------------------')\n",
    "\n",
    "# Make the last Fully connected layers trainable and freezing the rest of VGG model\n",
    "for layer in model_updated.layers:\n",
    "    layer.trainable = False\n",
    "for layer in model_updated.layers[-3:]:\n",
    "    layer.trainable = True\n",
    "\n",
    "tensorboard = TensorBoard(log_dir=\"logs\\{}\".format('CIFAR100\\FC_Layer'+str(i)))\n",
    "\n",
    "model_updated.compile(loss='categorical_crossentropy', optimizer=optimizers.Adam(lr=0.0001), metrics=['accuracy'])\n",
    "\n",
    "\n",
    "print('--------------------------Starting Fully connected layer training------------------------------------')\n",
    "\n",
    "history_fc = model_updated.fit(train_imgs, train_labels, batch_size=128,\\\n",
    "shuffle=True, epochs=2, validation_data=\\\n",
    "                    (test_imgs, test_labels),callbacks =[tensorboard])\n",
    "\n",
    "\n",
    "gc.collect()\n",
    "##Unfreeze weights ------ Now full model will be trained\n",
    "for layer in model_updated.layers:\n",
    "    layer.trainable = True\n",
    "\n",
    "\n",
    "no_epochs = 10\n",
    "tensorboard = TensorBoard(log_dir=\"logs\\{}\".format('CIFAR100\\FULL_Model'+str(i)))\n",
    "\n",
    "opt2 = optimizers.Adam(lr=0.00001)\n",
    "\n",
    "### Variable learning rate -----------------------\n",
    "lrate = LearningRateScheduler(learning_rate_schedule)\n",
    "callbacks_list = [lrate,tensorboard]\n",
    "\n",
    "\n",
    "\n",
    "\n",
    "model_updated.compile(loss='categorical_crossentropy', optimizer=opt2, metrics=['accuracy'])\n",
    "\n",
    "\n",
    "print('--------------------------Starting Full model training -->after unfreez------------------------------------')\n",
    "\n",
    "## Training full model \n",
    "history = model_updated.fit(train_imgs, train_labels, batch_size=128,\\\n",
    "shuffle=True, epochs=no_epochs, validation_data=\\\n",
    "                    (test_imgs, test_labels),callbacks =callbacks_list)\n",
    "\n",
    "\n",
    "\n",
    "## Timer for checking time taken\n",
    "stop = timeit.default_timer()\n",
    "print('Time taken for one run is : ', stop - start)\n",
    "\n",
    "model_updated.save_weights('CIFAR100_VGG16_model_updated_fin.h5')\n",
    "print(\"Model_Updated weights saved\") \n",
    "\n",
    "## saving history for plots\n",
    "history_fc_list.append(history_fc)\n",
    "history_full_list.append(history)"
   ]
  },
  {
   "cell_type": "markdown",
   "metadata": {},
   "source": [
    "## Run 2"
   ]
  },
  {
   "cell_type": "code",
   "execution_count": 14,
   "metadata": {},
   "outputs": [
    {
     "name": "stdout",
     "output_type": "stream",
     "text": [
      "------------------------New run started---------------------------------\n",
      "Initial model weights loaded , Started training run number  2\n",
      "------------------------------------------------------------------------\n",
      "--------------------------Starting Fully connected layer training------------------------------------\n",
      "Train on 50000 samples, validate on 10000 samples\n",
      "Epoch 1/2\n",
      "50000/50000 [==============================] - 146s 3ms/sample - loss: 2.4868 - acc: 0.4671 - val_loss: 1.8002 - val_acc: 0.5989\n",
      "Epoch 2/2\n",
      "50000/50000 [==============================] - 145s 3ms/sample - loss: 1.6657 - acc: 0.6291 - val_loss: 1.6197 - val_acc: 0.6356\n",
      "--------------------------Starting Full model training -->after unfreez------------------------------------\n",
      "Train on 50000 samples, validate on 10000 samples\n",
      "Epoch 1/10\n",
      "50000/50000 [==============================] - 414s 8ms/sample - loss: 1.7075 - acc: 0.6022 - val_loss: 1.2766 - val_acc: 0.7015\n",
      "Epoch 2/10\n",
      "50000/50000 [==============================] - 413s 8ms/sample - loss: 0.8658 - acc: 0.8151 - val_loss: 1.1918 - val_acc: 0.7228\n",
      "Epoch 3/10\n",
      "50000/50000 [==============================] - 413s 8ms/sample - loss: 0.4430 - acc: 0.9374 - val_loss: 1.1533 - val_acc: 0.7366\n",
      "Epoch 4/10\n",
      "50000/50000 [==============================] - 413s 8ms/sample - loss: 0.2742 - acc: 0.9810 - val_loss: 1.0849 - val_acc: 0.7550\n",
      "Epoch 5/10\n",
      "50000/50000 [==============================] - 413s 8ms/sample - loss: 0.1949 - acc: 0.9973 - val_loss: 0.9533 - val_acc: 0.7894\n",
      "Epoch 6/10\n",
      "50000/50000 [==============================] - 413s 8ms/sample - loss: 0.1738 - acc: 0.9992 - val_loss: 0.9586 - val_acc: 0.7936\n",
      "Epoch 7/10\n",
      "50000/50000 [==============================] - 413s 8ms/sample - loss: 0.1649 - acc: 0.9994 - val_loss: 0.9724 - val_acc: 0.7953\n",
      "Epoch 8/10\n",
      "50000/50000 [==============================] - 412s 8ms/sample - loss: 0.1586 - acc: 0.9996 - val_loss: 0.9812 - val_acc: 0.7962\n",
      "Epoch 9/10\n",
      "50000/50000 [==============================] - 412s 8ms/sample - loss: 0.1531 - acc: 0.9996 - val_loss: 0.9968 - val_acc: 0.7964\n",
      "Epoch 10/10\n",
      "50000/50000 [==============================] - 412s 8ms/sample - loss: 0.1490 - acc: 0.9996 - val_loss: 1.0084 - val_acc: 0.7970\n",
      "Time taken for one run is :  8780.234548469\n",
      "Model_Updated weights saved\n"
     ]
    }
   ],
   "source": [
    "\n",
    "i=1\n",
    "#Initilize vgg net\n",
    "vgg_net = VGG16(include_top=True, weights='imagenet', input_shape=(224,224,3))\n",
    "\n",
    "#Define our model \n",
    "x = vgg_net.get_layer('fc2').output\n",
    "x = Dense(1000, activity_regularizer=l1(0.001),activation='relu', name='my_fc3')(x)\n",
    "x = Dropout(0.3)(x)\n",
    "x = Dense(100, activation='softmax', name='predictions')(x)\n",
    "model_updated = Model(inputs=vgg_net.input, outputs=x)\n",
    "\n",
    "gc.collect()\n",
    "\n",
    "\n",
    "model_updated.load_weights('CIFAR100_VGG16_model_updated_initial.h5')\n",
    "\n",
    "print('------------------------New run started---------------------------------')\n",
    "print('Initial model weights loaded , Started training run number ', i+1)\n",
    "print('------------------------------------------------------------------------')\n",
    "\n",
    "# Make the last Fully connected layers trainable and freezing the rest of VGG model\n",
    "for layer in model_updated.layers:\n",
    "    layer.trainable = False\n",
    "for layer in model_updated.layers[-3:]:\n",
    "    layer.trainable = True\n",
    "\n",
    "tensorboard = TensorBoard(log_dir=\"logs\\{}\".format('CIFAR100\\FC_Layer'+str(i)))\n",
    "\n",
    "model_updated.compile(loss='categorical_crossentropy', optimizer=optimizers.Adam(lr=0.0001), metrics=['accuracy'])\n",
    "\n",
    "\n",
    "print('--------------------------Starting Fully connected layer training------------------------------------')\n",
    "\n",
    "history_fc = model_updated.fit(train_imgs, train_labels, batch_size=128,\\\n",
    "shuffle=True, epochs=2, validation_data=\\\n",
    "                    (test_imgs, test_labels),callbacks =[tensorboard])\n",
    "\n",
    "\n",
    "gc.collect()\n",
    "##Unfreeze weights ------ Now full model will be trained\n",
    "for layer in model_updated.layers:\n",
    "    layer.trainable = True\n",
    "\n",
    "\n",
    "no_epochs = 10\n",
    "tensorboard = TensorBoard(log_dir=\"logs\\{}\".format('CIFAR100\\FULL_Model'+str(i)))\n",
    "\n",
    "opt2 = optimizers.Adam(lr=0.00001)\n",
    "\n",
    "### Variable learning rate -----------------------\n",
    "lrate = LearningRateScheduler(learning_rate_schedule)\n",
    "callbacks_list = [lrate,tensorboard]\n",
    "\n",
    "\n",
    "\n",
    "\n",
    "model_updated.compile(loss='categorical_crossentropy', optimizer=opt2, metrics=['accuracy'])\n",
    "\n",
    "\n",
    "print('--------------------------Starting Full model training -->after unfreez------------------------------------')\n",
    "\n",
    "## Training full model \n",
    "history = model_updated.fit(train_imgs, train_labels, batch_size=128,\\\n",
    "shuffle=True, epochs=no_epochs, validation_data=\\\n",
    "                    (test_imgs, test_labels),callbacks =callbacks_list)\n",
    "\n",
    "\n",
    "\n",
    "## Timer for checking time taken\n",
    "stop = timeit.default_timer()\n",
    "print('Time taken for one run is : ', stop - start)\n",
    "\n",
    "model_updated.save_weights('CIFAR100_VGG16_model_updated_fin.h5')\n",
    "print(\"Model_Updated weights saved\") \n",
    "\n",
    "## saving history for plots\n",
    "history_fc_list.append(history_fc)\n",
    "history_full_list.append(history)"
   ]
  },
  {
   "cell_type": "markdown",
   "metadata": {},
   "source": [
    "## Run 3"
   ]
  },
  {
   "cell_type": "code",
   "execution_count": 22,
   "metadata": {},
   "outputs": [
    {
     "name": "stdout",
     "output_type": "stream",
     "text": [
      "60\n"
     ]
    }
   ],
   "source": [
    "# Function to free up keras memory\n",
    "\n",
    "from keras.backend.tensorflow_backend import set_session\n",
    "from keras.backend.tensorflow_backend import clear_session\n",
    "from keras.backend.tensorflow_backend import get_session\n",
    "import tensorflow \n",
    "\n",
    "# Reset Keras Session\n",
    "def reset_keras():\n",
    "    sess = get_session()\n",
    "    clear_session()\n",
    "    sess.close()\n",
    "    sess = get_session()\n",
    "\n",
    "    try:\n",
    "        del classifier # this is from global space - change this as you need\n",
    "    except:\n",
    "        pass\n",
    "\n",
    "    print(gc.collect()) # if it's done something you should see a number being outputted\n",
    "\n",
    "    # use the same config as you used to create the session\n",
    "    config = tensorflow.ConfigProto()\n",
    "    config.gpu_options.per_process_gpu_memory_fraction = 1\n",
    "    config.gpu_options.visible_device_list = \"0\"\n",
    "    set_session(tensorflow.Session(config=config))\n",
    "    \n",
    "reset_keras()"
   ]
  },
  {
   "cell_type": "code",
   "execution_count": 23,
   "metadata": {},
   "outputs": [
    {
     "name": "stdout",
     "output_type": "stream",
     "text": [
      "------------------------New run started---------------------------------\n",
      "Initial model weights loaded , Started training run number  3\n",
      "------------------------------------------------------------------------\n",
      "--------------------------Starting Fully connected layer training------------------------------------\n",
      "Train on 50000 samples, validate on 10000 samples\n",
      "Epoch 1/2\n",
      "50000/50000 [==============================] - 148s 3ms/sample - loss: 2.5004 - acc: 0.4642 - val_loss: 1.7935 - val_acc: 0.6043\n",
      "Epoch 2/2\n",
      "50000/50000 [==============================] - 148s 3ms/sample - loss: 1.6611 - acc: 0.6307 - val_loss: 1.6149 - val_acc: 0.6367\n",
      "--------------------------Starting Full model training -->after unfreez------------------------------------\n",
      "Train on 50000 samples, validate on 10000 samples\n",
      "Epoch 1/10\n",
      "50000/50000 [==============================] - 368s 7ms/sample - loss: 1.7926 - acc: 0.5760 - val_loss: 1.3295 - val_acc: 0.6864\n",
      "Epoch 2/10\n",
      "50000/50000 [==============================] - 367s 7ms/sample - loss: 0.8948 - acc: 0.8058 - val_loss: 1.1286 - val_acc: 0.7399\n",
      "Epoch 3/10\n",
      "50000/50000 [==============================] - 367s 7ms/sample - loss: 0.4551 - acc: 0.9333 - val_loss: 1.1656 - val_acc: 0.7277\n",
      "Epoch 4/10\n",
      "50000/50000 [==============================] - 367s 7ms/sample - loss: 0.2659 - acc: 0.9837 - val_loss: 1.0732 - val_acc: 0.7584\n",
      "Epoch 5/10\n",
      "50000/50000 [==============================] - 367s 7ms/sample - loss: 0.1907 - acc: 0.9977 - val_loss: 0.9622 - val_acc: 0.7880\n",
      "Epoch 6/10\n",
      "50000/50000 [==============================] - 367s 7ms/sample - loss: 0.1722 - acc: 0.9992 - val_loss: 0.9695 - val_acc: 0.7926\n",
      "Epoch 7/10\n",
      "50000/50000 [==============================] - 367s 7ms/sample - loss: 0.1641 - acc: 0.9994 - val_loss: 0.9805 - val_acc: 0.7940\n",
      "Epoch 8/10\n",
      "50000/50000 [==============================] - 367s 7ms/sample - loss: 0.1580 - acc: 0.9996 - val_loss: 0.9918 - val_acc: 0.7938\n",
      "Epoch 9/10\n",
      "50000/50000 [==============================] - 367s 7ms/sample - loss: 0.1527 - acc: 0.9995 - val_loss: 1.0068 - val_acc: 0.7959\n",
      "Epoch 10/10\n",
      "50000/50000 [==============================] - 367s 7ms/sample - loss: 0.1488 - acc: 0.9997 - val_loss: 1.0143 - val_acc: 0.7968\n",
      "Time taken for one run is :  13945.319971805\n",
      "Model_Updated weights saved\n"
     ]
    }
   ],
   "source": [
    "\n",
    "i=2\n",
    "#Initilize vgg net\n",
    "vgg_net = VGG16(include_top=True, weights='imagenet', input_shape=(224,224,3))\n",
    "\n",
    "#Define our model \n",
    "x = vgg_net.get_layer('fc2').output\n",
    "x = Dense(1000, activity_regularizer=l1(0.001),activation='relu', name='my_fc3')(x)\n",
    "x = Dropout(0.3)(x)\n",
    "x = Dense(100, activation='softmax', name='predictions')(x)\n",
    "model_updated = Model(inputs=vgg_net.input, outputs=x)\n",
    "\n",
    "gc.collect()\n",
    "\n",
    "\n",
    "model_updated.load_weights('CIFAR100_VGG16_model_updated_initial.h5')\n",
    "\n",
    "print('------------------------New run started---------------------------------')\n",
    "print('Initial model weights loaded , Started training run number ', i+1)\n",
    "print('------------------------------------------------------------------------')\n",
    "\n",
    "# Make the last Fully connected layers trainable and freezing the rest of VGG model\n",
    "for layer in model_updated.layers:\n",
    "    layer.trainable = False\n",
    "for layer in model_updated.layers[-3:]:\n",
    "    layer.trainable = True\n",
    "\n",
    "tensorboard = TensorBoard(log_dir=\"logs\\{}\".format('CIFAR100\\FC_Layer'+str(i)))\n",
    "\n",
    "model_updated.compile(loss='categorical_crossentropy', optimizer=optimizers.Adam(lr=0.0001), metrics=['accuracy'])\n",
    "\n",
    "\n",
    "print('--------------------------Starting Fully connected layer training------------------------------------')\n",
    "\n",
    "history_fc = model_updated.fit(train_imgs, train_labels, batch_size=128,\\\n",
    "shuffle=True, epochs=2, validation_data=\\\n",
    "                    (test_imgs, test_labels),callbacks =[tensorboard])\n",
    "\n",
    "\n",
    "gc.collect()\n",
    "##Unfreeze weights ------ Now full model will be trained\n",
    "for layer in model_updated.layers:\n",
    "    layer.trainable = True\n",
    "\n",
    "\n",
    "no_epochs = 10\n",
    "tensorboard = TensorBoard(log_dir=\"logs\\{}\".format('CIFAR100\\FULL_Model'+str(i)))\n",
    "\n",
    "opt2 = optimizers.Adam(lr=0.00001)\n",
    "\n",
    "### Variable learning rate -----------------------\n",
    "lrate = LearningRateScheduler(learning_rate_schedule)\n",
    "callbacks_list = [lrate,tensorboard]\n",
    "\n",
    "\n",
    "\n",
    "\n",
    "model_updated.compile(loss='categorical_crossentropy', optimizer=opt2, metrics=['accuracy'])\n",
    "\n",
    "\n",
    "print('--------------------------Starting Full model training -->after unfreez------------------------------------')\n",
    "\n",
    "## Training full model \n",
    "history = model_updated.fit(train_imgs, train_labels, batch_size=128,\\\n",
    "shuffle=True, epochs=no_epochs, validation_data=\\\n",
    "                    (test_imgs, test_labels),callbacks =callbacks_list)\n",
    "\n",
    "\n",
    "\n",
    "## Timer for checking time taken\n",
    "stop = timeit.default_timer()\n",
    "print('Time taken for one run is : ', stop - start)\n",
    "\n",
    "model_updated.save_weights('CIFAR100_VGG16_model_updated_fin.h5')\n",
    "print(\"Model_Updated weights saved\") \n",
    "\n",
    "## saving history for plots\n",
    "history_fc_list.append(history_fc)\n",
    "history_full_list.append(history)"
   ]
  },
  {
   "cell_type": "markdown",
   "metadata": {},
   "source": [
    "## Tensorboard logs have been save to logs folder\n",
    "- where \"*\\FC_Layer\" folder means logs where we train only our FC layers\n",
    "- where \"*\\FULL_Model\" folder means logs where we train all layers in our model"
   ]
  },
  {
   "cell_type": "markdown",
   "metadata": {},
   "source": [
    "## Plotting the graphs of testing accuracy \n",
    "- Test accuracy\n",
    "- Plotted for only FC_layer training\n",
    "- Plotted for full model training\n"
   ]
  },
  {
   "cell_type": "code",
   "execution_count": 29,
   "metadata": {},
   "outputs": [
    {
     "data": {
      "image/png": "[encoded data removed]",
      "text/plain": [
       "<Figure size 432x288 with 3 Axes>"
      ]
     },
     "metadata": {
      "needs_background": "light"
     },
     "output_type": "display_data"
    },
    {
     "name": "stdout",
     "output_type": "stream",
     "text": [
      "Average testing accuracy: 0.7969333330790201\n"
     ]
    }
   ],
   "source": [
    "plt.subplot(1, 3, 1)\n",
    "plt.plot(history_full_list[0].history['val_acc'])\n",
    "plt.legend(['test'], loc='lower right')\n",
    "\n",
    "plt.subplot(1, 3, 2)\n",
    "plt.plot(history_full_list[1].history['val_acc'])\n",
    "plt.legend(['test'], loc='lower right')\n",
    "\n",
    "plt.subplot(1, 3, 3)\n",
    "plt.plot(history_full_list[2].history['val_acc'])\n",
    "plt.legend(['test'], loc='lower right')\n",
    "plt.tight_layout() \n",
    "\n",
    "plt.show()\n",
    "\n",
    "avg_train_acc = 0\n",
    "avg_test_acc = 0\n",
    "final_train_loss = []\n",
    "final_test_loss = []\n",
    "\n",
    "for his in history_full_list:\n",
    "    final_train_loss.append(his.history['loss'][-1])\n",
    "    final_test_loss.append(his.history['val_loss'][-1])\n",
    "    avg_train_acc = avg_train_acc + his.history['acc'][-1]\n",
    "    avg_test_acc = avg_test_acc + his.history['val_acc'][-1]\n",
    "\n",
    "avg_train_acc = avg_train_acc/len(history_fc_list)\n",
    "avg_test_acc = avg_test_acc/len(history_fc_list)\n",
    "\n",
    "\n",
    "print(\"Average testing accuracy: {}\".format(avg_test_acc))"
   ]
  },
  {
   "cell_type": "markdown",
   "metadata": {},
   "source": [
    "## Train acc vs Test acc"
   ]
  },
  {
   "cell_type": "code",
   "execution_count": 31,
   "metadata": {
    "pycharm": {
     "is_executing": false
    }
   },
   "outputs": [
    {
     "data": {
      "image/png": "[encoded data removed]",
      "text/plain": [
       "<Figure size 432x288 with 3 Axes>"
      ]
     },
     "metadata": {
      "needs_background": "light"
     },
     "output_type": "display_data"
    },
    {
     "name": "stdout",
     "output_type": "stream",
     "text": [
      "Average train accuracy: 0.999673326810201\n"
     ]
    }
   ],
   "source": [
    "plt.subplot(1, 3, 1)\n",
    "plt.plot(history_full_list[0].history['val_acc'])\n",
    "plt.plot(history_full_list[0].history['acc'])\n",
    "plt.legend(['test'], loc='lower right')\n",
    "\n",
    "plt.subplot(1, 3, 2)\n",
    "plt.plot(history_full_list[1].history['val_acc'])\n",
    "plt.plot(history_full_list[1].history['acc'])\n",
    "plt.legend(['test'], loc='lower right')\n",
    "\n",
    "plt.subplot(1, 3, 3)\n",
    "plt.plot(history_full_list[2].history['val_acc'])\n",
    "plt.plot(history_full_list[2].history['acc'])\n",
    "plt.legend(['test'], loc='lower right')\n",
    "plt.tight_layout() \n",
    "\n",
    "plt.show()\n",
    "print(\"Average train accuracy: {}\".format(avg_train_acc))"
   ]
  },
  {
   "cell_type": "markdown",
   "metadata": {},
   "source": [
    "# Final model accuracy is :"
   ]
  },
  {
   "cell_type": "code",
   "execution_count": 32,
   "metadata": {},
   "outputs": [
    {
     "name": "stdout",
     "output_type": "stream",
     "text": [
      "Average Model Train accuracy is  :  79.69333330790201 %\n"
     ]
    }
   ],
   "source": [
    "print(\"Average Model Train accuracy is  : \",avg_test_acc*100,\"%\")"
   ]
  },
  {
   "cell_type": "markdown",
   "metadata": {},
   "source": [
    "### Model structure is saved to an image."
   ]
  },
  {
   "cell_type": "code",
   "execution_count": 33,
   "metadata": {},
   "outputs": [
    {
     "data": {
      "image/png": "[encoded data removed]",
      "text/plain": [
       "<IPython.core.display.Image object>"
      ]
     },
     "execution_count": 33,
     "metadata": {},
     "output_type": "execute_result"
    }
   ],
   "source": [
    "from tensorflow.keras.utils import plot_model\n",
    "plot_model(model_updated, to_file='model_CIFAR100_VGG16.png')"
   ]
  },
  {
   "cell_type": "markdown",
   "metadata": {},
   "source": [
    "#### Thank you "
   ]
  }
 ],
 "metadata": {
  "kernelspec": {
   "display_name": "Python 3",
   "language": "python",
   "name": "python3"
  },
  "language_info": {
   "codemirror_mode": {
    "name": "ipython",
    "version": 3
   },
   "file_extension": ".py",
   "mimetype": "text/x-python",
   "name": "python",
   "nbconvert_exporter": "python",
   "pygments_lexer": "ipython3",
   "version": "3.5.3"
  },
  "pycharm": {
   "stem_cell": {
    "cell_type": "raw",
    "metadata": {
     "collapsed": false
    },
    "source": []
   }
  }
 },
 "nbformat": 4,
 "nbformat_minor": 2
}
